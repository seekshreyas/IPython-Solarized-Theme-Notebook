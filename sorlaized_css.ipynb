{
 "cells": [
  {
   "cell_type": "markdown",
   "metadata": {},
   "source": [
    "Run all cells in this notebook, then run IPython:\n",
    "N\n",
    "\n",
    "```\n",
    "$ ipython notebook --profile=solarized\n",
    "```\n",
    "\n",
    "Then remember to use ⌘-R to refresh your browser's cached css files"
   ]
  },
  {
   "cell_type": "code",
   "execution_count": 1,
   "metadata": {
    "collapsed": false
   },
   "outputs": [],
   "source": [
    "profile_name = 'solarized-dark'"
   ]
  },
  {
   "cell_type": "code",
   "execution_count": 2,
   "metadata": {
    "collapsed": false
   },
   "outputs": [
    {
     "name": "stdout",
     "output_type": "stream",
     "text": [
      "[ProfileCreate] Generating default config file: u'/Users/shreyas/.ipython/profile_solarized-dark/ipython_config.py'\r\n",
      "[ProfileCreate] Generating default config file: u'/Users/shreyas/.ipython/profile_solarized-dark/ipython_kernel_config.py'\r\n"
     ]
    }
   ],
   "source": [
    "!ipython profile create {profile_name}"
   ]
  },
  {
   "cell_type": "code",
   "execution_count": 3,
   "metadata": {
    "collapsed": false
   },
   "outputs": [
    {
     "name": "stdout",
     "output_type": "stream",
     "text": [
      "/Users/shreyas/.ipython/profile_solarized-dark\r\n"
     ]
    }
   ],
   "source": [
    "!ipython locate profile {profile_name}"
   ]
  },
  {
   "cell_type": "code",
   "execution_count": 4,
   "metadata": {
    "collapsed": false
   },
   "outputs": [],
   "source": [
    "!mkdir ~/.ipython/profile_{profile_name}/static\n",
    "!mkdir ~/.ipython/profile_{profile_name}/static/custom\n",
    "!touch ~/.ipython/profile_{profile_name}/static/custom/custom.css"
   ]
  },
  {
   "cell_type": "code",
   "execution_count": 5,
   "metadata": {
    "collapsed": false
   },
   "outputs": [
    {
     "name": "stdout",
     "output_type": "stream",
     "text": [
      "Overwriting /Users/shreyas/.ipython/profile_solarized-dark/static/custom/custom.css\n"
     ]
    }
   ],
   "source": [
    "%%file ~/.ipython/profile_{profile_name}/static/custom/custom.css\n",
    "\n",
    "div#notebook {\n",
    "    border-top: 1px solid #586e75;\n",
    "}\n",
    "\n",
    "/* cell areas */\n",
    "div.input_area {\n",
    "    background: #002b36;\n",
    "    border: 1px solid #586e75;\n",
    "}\n",
    "\n",
    "div.text_cell_input {\n",
    "    background: #002b36;\n",
    "    border: 1px solid #586e75;\n",
    "\n",
    "}\n",
    "\n",
    "div.cell.selected {\n",
    "    border-radius: 4px;\n",
    "    border: thin #cb4b16 solid;\n",
    "}\n",
    "\n",
    "div.input_prompt {\n",
    "    color: #93a1a1;\n",
    "}\n",
    "\n",
    "/* code cells */\n",
    ".cm-s-ipython {\n",
    "    background: #002b36;\n",
    "    color: #839496;\n",
    "    font-family:  CONSOLAS, ANDALE MONO, COURIER;\n",
    "    font-size: 16px;\n",
    "}\n",
    "\n",
    ".cm-s-ipython span.cm-keyword {\n",
    "    color: #859900;\n",
    "    font-weight: bold;\n",
    "}\n",
    ".cm-s-ipython span.cm-number {\n",
    "    color: #b58900;\n",
    "}\n",
    ".cm-s-ipython span.cm-operator {\n",
    "    color: #268bd2; \n",
    "    font-weight: bold;\n",
    "}\n",
    ".cm-s-ipython span.cm-meta {\n",
    "    color: #cb4b16;\n",
    "}\n",
    ".cm-s-ipython span.cm-comment {\n",
    "    color: #586e75; \n",
    "    font-style: italic;\n",
    "}\n",
    ".cm-s-ipython span.cm-string {\n",
    "    color: #2aa198;\n",
    "}\n",
    ".cm-s-ipython span.cm-error {\n",
    "    color: #dc322f;\n",
    "}\n",
    ".cm-s-ipython span.cm-builtin {\n",
    "    color: #cb4b16;\n",
    "}\n",
    ".cm-s-ipython span.cm-variable{\n",
    "    color: #839496;\n",
    "}\n",
    "\n",
    "div.CodeMirror-cursor {\n",
    "    border-left:solid 2px #93a1a1 !important;\n",
    "}\n",
    "\n",
    "/* output area */\n",
    "div.output_text pre{\n",
    "    color: #839496;\n",
    "    font-size:16px;\n",
    "}\n",
    "\n",
    "div.output_html {\n",
    "    color: #839496;\n",
    "}\n",
    "\n",
    "/* text/markdown cells */\n",
    "div.text_cell div {\n",
    "    color: #839496;\n",
    "}\n",
    "\n",
    "div.text_cell code {\n",
    "    background-color: transparent;\n",
    "}\n",
    "\n",
    "div.text_cell pre {\n",
    "    background-color: transparent;\n",
    "}\n",
    "\n",
    "/* nav bar */\n",
    "\n",
    ".notification_widget {\n",
    "    background: none;\n",
    "    border: 1px solid #586e75;\n",
    "}\n"
   ]
  },
  {
   "cell_type": "code",
   "execution_count": null,
   "metadata": {
    "collapsed": false
   },
   "outputs": [],
   "source": []
  }
 ],
 "metadata": {
  "kernelspec": {
   "display_name": "Python 2",
   "language": "python",
   "name": "python2"
  },
  "language_info": {
   "codemirror_mode": {
    "name": "ipython",
    "version": 2
   },
   "file_extension": ".py",
   "mimetype": "text/x-python",
   "name": "python",
   "nbconvert_exporter": "python",
   "pygments_lexer": "ipython2",
   "version": "2.7.10"
  }
 },
 "nbformat": 4,
 "nbformat_minor": 0
}
